{
 "cells": [
  {
   "cell_type": "code",
   "execution_count": 27,
   "metadata": {},
   "outputs": [
    {
     "name": "stdout",
     "output_type": "stream",
     "text": [
      "1 Number of used processors (NPROC): 1.\n",
      " <class 'str'>\n",
      "miss\n"
     ]
    }
   ],
   "source": [
    "with open('logs/14-HEAT_TRANSFER_IN_SOLID/00014-HWF_on_ins_ss/ft_run/1/1.stdout', 'r') as f:\n",
    "    i = 1\n",
    "    for line in f:\n",
    "        print(i, line, type(line))\n",
    "        if 'Solver finished at' not in line:\n",
    "            print('miss')\n",
    "            break\n",
    "        i += 1"
   ]
  },
  {
   "cell_type": "code",
   "execution_count": null,
   "metadata": {},
   "outputs": [],
   "source": []
  }
 ],
 "metadata": {
  "kernelspec": {
   "display_name": "Python 3",
   "language": "python",
   "name": "python3"
  },
  "language_info": {
   "codemirror_mode": {
    "name": "ipython",
    "version": 3
   },
   "file_extension": ".py",
   "mimetype": "text/x-python",
   "name": "python",
   "nbconvert_exporter": "python",
   "pygments_lexer": "ipython3",
   "version": "3.8.3"
  }
 },
 "nbformat": 4,
 "nbformat_minor": 4
}
